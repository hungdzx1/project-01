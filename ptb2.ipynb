{
  "nbformat": 4,
  "nbformat_minor": 0,
  "metadata": {
    "colab": {
      "provenance": [],
      "authorship_tag": "ABX9TyNIHCGSzPQWg9jcAKiUoEOW",
      "include_colab_link": true
    },
    "kernelspec": {
      "name": "python3",
      "display_name": "Python 3"
    },
    "language_info": {
      "name": "python"
    }
  },
  "cells": [
    {
      "cell_type": "markdown",
      "metadata": {
        "id": "view-in-github",
        "colab_type": "text"
      },
      "source": [
        "<a href=\"https://colab.research.google.com/github/hungdzx1/project-01/blob/main/ptb2.ipynb\" target=\"_parent\"><img src=\"https://colab.research.google.com/assets/colab-badge.svg\" alt=\"Open In Colab\"/></a>"
      ]
    },
    {
      "cell_type": "code",
      "execution_count": 1,
      "metadata": {
        "colab": {
          "base_uri": "https://localhost:8080/"
        },
        "id": "JmhaZ_BV3H7d",
        "outputId": "cd7afcd0-cc5f-461f-9196-3f5324bab7e9"
      },
      "outputs": [
        {
          "output_type": "stream",
          "name": "stdout",
          "text": [
            "Nhập a = 1\n",
            "Nhập b = 3\n",
            "Nhập c = 5\n",
            "Phương trình vô nghiệm\n"
          ]
        }
      ],
      "source": [
        "a = float(input(\"Nhập a = \"))\n",
        "b = float(input(\"Nhập b = \"))\n",
        "c = float(input(\"Nhập c = \"))\n",
        "dent = b**2 - 4*a*c\n",
        "if a != 0 :\n",
        "  if dent > 0:\n",
        "     print(\"Phương trình có 2 nghiệm phân biệt\")\n",
        "     x1 = (-b + dent**0.5)/(2*a)\n",
        "     x2 = (-b - dent**0.5)/(2*a)\n",
        "     print(f\"x1 = {x1}\")\n",
        "     print(f\"x2 = {x2}\")\n",
        "  elif dent == 0:\n",
        "     print(\"Phương trình có 1 nghiệm duy nhất\")\n",
        "     x1 = x2 = -b/(2*a)\n",
        "     print(f\"x1 = x2 {x1}\")\n",
        "  else :\n",
        "    print(\"Phương trình vô nghiệm\")\n",
        "else:\n",
        "  print(\"Đây là phương trình bậc nhất\")\n",
        "  x = -c/b\n",
        "  print(f\"x = {x}\")\n",
        ""
      ]
    }
  ]
}